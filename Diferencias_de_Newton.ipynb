{
  "nbformat": 4,
  "nbformat_minor": 0,
  "metadata": {
    "colab": {
      "provenance": [],
      "authorship_tag": "ABX9TyMZutBKHq/XJvl8aeXvRmns",
      "include_colab_link": true
    },
    "kernelspec": {
      "name": "python3",
      "display_name": "Python 3"
    },
    "language_info": {
      "name": "python"
    }
  },
  "cells": [
    {
      "cell_type": "markdown",
      "metadata": {
        "id": "view-in-github",
        "colab_type": "text"
      },
      "source": [
        "<a href=\"https://colab.research.google.com/github/David-gutierrez-rodriguez/Ejercicioss/blob/main/Diferencias_de_Newton.ipynb\" target=\"_parent\"><img src=\"https://colab.research.google.com/assets/colab-badge.svg\" alt=\"Open In Colab\"/></a>"
      ]
    },
    {
      "cell_type": "code",
      "execution_count": null,
      "metadata": {
        "id": "ZRcyWY1aiJzC"
      },
      "outputs": [],
      "source": [
        "from math import trunc, factorial, gamma"
      ]
    },
    {
      "cell_type": "code",
      "source": [
        "def d_i(d, l, i): #función que calcula las diferencias\n",
        "  d[i] = []\n",
        "  for j in range(len(l) - 1):\n",
        "    d[i].append(l[j + 1] - l[j])\n",
        "  return d"
      ],
      "metadata": {
        "id": "kRAM7tBYu5Be"
      },
      "execution_count": null,
      "outputs": []
    },
    {
      "cell_type": "code",
      "source": [
        "def binomial(n, k): #función que calcula el coeficiente binomial\n",
        "  if k == 0 or k == n:\n",
        "    return 1\n",
        "  else:\n",
        "    return gamma(n + 1) / (gamma(k + 1) * gamma(n - k + 1))"
      ],
      "metadata": {
        "id": "AU72-GtNDKcN"
      },
      "execution_count": null,
      "outputs": []
    },
    {
      "cell_type": "code",
      "source": [
        "n = int(input(\"Ingresa la cantidad de puntos: \")) #captura de datos\n",
        "h = int(input(\"Ingresa el espaciado: \"))\n",
        "x_0 = int(input(\"Ingresa el valor inicial de x: \"))\n",
        "delta, X, c = {0 : []}, [], 0\n",
        "for i in range(x_0, x_0 + n * h, h):\n",
        "  X.append(i)\n",
        "  delta[0].append(float(input(f\"Ingresa el valor de y_{trunc((i - x_0) / h)}: \")))"
      ],
      "metadata": {
        "id": "5O-Rad6slAjl",
        "colab": {
          "base_uri": "https://localhost:8080/"
        },
        "outputId": "1d1f2c01-baaa-4722-c132-bfda29da826a"
      },
      "execution_count": null,
      "outputs": [
        {
          "name": "stdout",
          "output_type": "stream",
          "text": [
            "Ingresa la cantidad de puntos: 4\n",
            "Ingresa el espaciado: 2\n",
            "Ingresa el valor inicial de x: -1\n",
            "Ingresa el valor de y_0: 4\n",
            "Ingresa el valor de y_1: 9\n",
            "Ingresa el valor de y_2: -5\n",
            "Ingresa el valor de y_3: 0\n"
          ]
        }
      ]
    },
    {
      "cell_type": "code",
      "source": [
        "#Imprime la tabla en forma escalonada\n",
        "while not all(i == 0 for i in delta[c]):\n",
        "  delta = d_i(delta, delta[c], c + 1)\n",
        "  c += 1\n",
        "print(f\"X\\t\", end=\"\")\n",
        "for i in range(len(delta)):\n",
        "  print(f\"Δ^{i}y\\t\", end=\"\")\n",
        "for j in range(len(X) - len(delta) + 1):\n",
        "  print(f\"\\n{X[j]}\\t\", end=\"\")\n",
        "  for i in range(len(delta)):\n",
        "    print(f\"{delta[i][j]}\\t\", end=\"\")\n",
        "for j in range(1, len(delta)):\n",
        "  print(f\"\\n{X[len(X) - len(delta) + j]}\\t\", end=\"\")\n",
        "  for i in range(len(delta) - j):\n",
        "    print(f\"{delta[i][len(X) - len(delta) + j]}\\t\", end=\"\")"
      ],
      "metadata": {
        "colab": {
          "base_uri": "https://localhost:8080/"
        },
        "id": "t2Nek_SKw7F3",
        "outputId": "afbfe54b-3c3a-48b7-90bc-5c6efe5c4d0f"
      },
      "execution_count": null,
      "outputs": [
        {
          "output_type": "stream",
          "name": "stdout",
          "text": [
            "X\tΔ^0y\tΔ^1y\tΔ^2y\tΔ^3y\tΔ^4y\t\n",
            "-1\t4.0\t5.0\t-19.0\t38.0\t\n",
            "1\t9.0\t-14.0\t19.0\t\n",
            "3\t-5.0\t5.0\t\n",
            "5\t0.0\t"
          ]
        }
      ]
    },
    {
      "cell_type": "code",
      "source": [
        "x_0 = float(input(\"Ingresa el valor de x_0: \"))\n",
        "if x_0 in X and X.index(x_0) < len(X) - len(delta) + 2: #se asegura de que el valor introducido esté en los datos y\n",
        "  i_x_0 = X.index(x_0)                                  #que haya columnas suficientes para hacer el cálculo\n",
        "  x_k = float(input(\"Ingresa el valor para interpolar: \"))\n",
        "  k = (x_k - x_0) / h\n",
        "  y = 0\n",
        "  for i in range(len(delta) - 1):\n",
        "     y += binomial(k, i) * delta[i][i_x_0]\n",
        "  print(f\"El valor aproximado de y({x_k}) es {y}\")\n",
        "else: print(\"Error\")"
      ],
      "metadata": {
        "colab": {
          "base_uri": "https://localhost:8080/"
        },
        "id": "CAcCzBT_eeQ-",
        "outputId": "dc5a233d-1118-4c57-d8c0-07639f86806f"
      },
      "execution_count": null,
      "outputs": [
        {
          "output_type": "stream",
          "name": "stdout",
          "text": [
            "Ingresa el valor de x_0: -1\n",
            "Ingresa el valor para interpolar: 4\n",
            "El valor aproximado de y(4.0) es -7.249999999999998\n"
          ]
        }
      ]
    }
  ]
}
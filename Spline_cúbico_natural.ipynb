{
  "nbformat": 4,
  "nbformat_minor": 0,
  "metadata": {
    "colab": {
      "provenance": [],
      "authorship_tag": "ABX9TyM7M6cgC48z5WJxXsJCsPV4",
      "include_colab_link": true
    },
    "kernelspec": {
      "name": "python3",
      "display_name": "Python 3"
    },
    "language_info": {
      "name": "python"
    }
  },
  "cells": [
    {
      "cell_type": "markdown",
      "metadata": {
        "id": "view-in-github",
        "colab_type": "text"
      },
      "source": [
        "<a href=\"https://colab.research.google.com/github/David-gutierrez-rodriguez/Ejercicioss/blob/main/Spline_c%C3%BAbico_natural.ipynb\" target=\"_parent\"><img src=\"https://colab.research.google.com/assets/colab-badge.svg\" alt=\"Open In Colab\"/></a>"
      ]
    },
    {
      "cell_type": "code",
      "execution_count": 42,
      "metadata": {
        "colab": {
          "base_uri": "https://localhost:8080/"
        },
        "id": "AlIy1GTkZASU",
        "outputId": "690a3637-777f-4f6f-cc44-bffac9659589"
      },
      "outputs": [
        {
          "name": "stdout",
          "output_type": "stream",
          "text": [
            "Ingrese la cantidad de datos: 4\n",
            "Ingresa el valor de x_0: 0\n",
            "Ingresa el valor de f(0.0): 1\n",
            "Ingresa el valor de x_1: 1\n",
            "Ingresa el valor de f(1.0): 2.7183\n",
            "Ingresa el valor de x_2: 2\n",
            "Ingresa el valor de f(2.0): 7.3891\n",
            "Ingresa el valor de x_3: 3\n",
            "Ingresa el valor de f(3.0): 20.0855\n"
          ]
        }
      ],
      "source": [
        "n = int(input(\"Ingrese la cantidad de datos: \")) - 1\n",
        "x, y, h = [], [], []\n",
        "a, l, z, m = [0], [1], [0], [0]\n",
        "abcd = {0 : y, 1 : [], 2 : [], 3 : []}\n",
        "for i in range(n + 1):\n",
        "  x.append(float(input(f\"Ingresa el valor de x_{i}: \")))\n",
        "  y.append(float(input(f\"Ingresa el valor de f({x[i]}): \")))\n",
        "  abcd[2].append(0)"
      ]
    },
    {
      "cell_type": "code",
      "source": [
        "for i in range(n):\n",
        "  h.append(x[i + 1] - x[i])\n",
        "  abcd[1].append(0)\n",
        "  abcd[3].append(0)"
      ],
      "metadata": {
        "id": "T0mJGmsFlTyV"
      },
      "execution_count": 43,
      "outputs": []
    },
    {
      "cell_type": "code",
      "source": [
        "for i in range(1, n):\n",
        "  a.append(3 * (y[i + 1] - y[i]) / h[i] - 3 * (y[i] - y[i - 1]) / h[i - 1])\n",
        "  l.append(2 * (x[i + 1] - x[i - 1]) - h[i - 1] * m[i - 1])\n",
        "  m.append(h[i] / l[i])\n",
        "  z.append((a[i] - h[i - 1] * z[i - 1]) / l[i])\n",
        "l.append(1)\n",
        "z.append(0)"
      ],
      "metadata": {
        "id": "jkU4yiznmdC7"
      },
      "execution_count": 44,
      "outputs": []
    },
    {
      "cell_type": "code",
      "source": [
        "for j in range(n - 1, -1, -1):\n",
        "  abcd[2][j] = z[j] - m[j] * abcd[2][j + 1]\n",
        "  abcd[1][j] = ((abcd[0][j + 1]- abcd[0][j]) / h[j] - h[j] * (abcd[2][j + 1] + 2 * abcd[2][j]) / 3)\n",
        "  abcd[3][j] = (abcd[2][j + 1] - abcd[2][j]) / (3 * h[j])"
      ],
      "metadata": {
        "id": "rGXYPhFLsgTI"
      },
      "execution_count": 45,
      "outputs": []
    },
    {
      "cell_type": "code",
      "source": [
        "print(\"El polinomio S definido por trozos es:\")\n",
        "for i in range(n):\n",
        "  print(f\"S_{i}(x) = {abcd[0][i]}\", end = f\"\")\n",
        "  for j in range(1, 4):\n",
        "    print(f\" + {abcd[j][i]}(x - {x[i]})^{j}\", end = \"\")\n",
        "  print(f\"   para {x[i]} < x < {x[i + 1]}\")"
      ],
      "metadata": {
        "colab": {
          "base_uri": "https://localhost:8080/"
        },
        "id": "cNcLyi5y4XtE",
        "outputId": "ff6670f7-313b-4cf3-dd91-c84d75246a7e"
      },
      "execution_count": 46,
      "outputs": [
        {
          "output_type": "stream",
          "name": "stdout",
          "text": [
            "El polinomio S definido por trozos es:\n",
            "S_0(x) = 1.0 + 1.4660066666666671(x - 0.0)^1 + 0.0(x - 0.0)^2 + 0.25229333333333304(x - 0.0)^3   para 0.0 < x < 1.0\n",
            "S_1(x) = 2.7183 + 2.2228866666666662(x - 1.0)^1 + 0.7568799999999991(x - 1.0)^2 + 1.6910333333333343(x - 1.0)^3   para 1.0 < x < 2.0\n",
            "S_2(x) = 7.3891 + 8.809746666666666(x - 2.0)^1 + 5.829980000000002(x - 2.0)^2 + -1.9433266666666673(x - 2.0)^3   para 2.0 < x < 3.0\n"
          ]
        }
      ]
    },
    {
      "cell_type": "code",
      "source": [],
      "metadata": {
        "id": "7qNa9vFrY9aQ"
      },
      "execution_count": null,
      "outputs": []
    }
  ]
}
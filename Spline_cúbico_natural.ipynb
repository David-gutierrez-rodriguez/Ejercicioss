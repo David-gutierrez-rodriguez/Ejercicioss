{
  "nbformat": 4,
  "nbformat_minor": 0,
  "metadata": {
    "colab": {
      "provenance": [],
      "authorship_tag": "ABX9TyMfHLCbzQT6bcIZgi9dpuTF",
      "include_colab_link": true
    },
    "kernelspec": {
      "name": "python3",
      "display_name": "Python 3"
    },
    "language_info": {
      "name": "python"
    }
  },
  "cells": [
    {
      "cell_type": "markdown",
      "metadata": {
        "id": "view-in-github",
        "colab_type": "text"
      },
      "source": [
        "<a href=\"https://colab.research.google.com/github/David-gutierrez-rodriguez/Ejercicioss/blob/main/Spline_c%C3%BAbico_natural.ipynb\" target=\"_parent\"><img src=\"https://colab.research.google.com/assets/colab-badge.svg\" alt=\"Open In Colab\"/></a>"
      ]
    },
    {
      "cell_type": "code",
      "execution_count": 3,
      "metadata": {
        "colab": {
          "base_uri": "https://localhost:8080/"
        },
        "id": "AlIy1GTkZASU",
        "outputId": "6bfcd25b-1216-4eb6-b57e-6770dc3cd832"
      },
      "outputs": [
        {
          "output_type": "stream",
          "name": "stdout",
          "text": [
            "¿Cuántos datos ingresará?: 3\n",
            "Ingrese el valor de x0:  1\n",
            "Ingrese el valor de f(x0):  2\n",
            "Ingrese el valor de x1:  3\n",
            "Ingrese el valor de f(x1):  4\n",
            "Ingrese el valor de x2:  5\n",
            "Ingrese el valor de f(x2):  6\n",
            "El spline cúbico natural se describe por tramos mediante: \n",
            "\n",
            "\n",
            "2.0 + 1.0 * (x - 1.0 ) + [0.] * (x - 1.0 )² + 0.0 * (x - 1.0 )³\n",
            "4.0 + 1.0 * (x - 3.0 ) + [0.] * (x - 3.0 )² + 0.0 * (x - 3.0 )³\n"
          ]
        }
      ],
      "source": [
        "from numpy.core.multiarray import zeros\n",
        "import numpy as np\n",
        "\n",
        "d = int(input(\"¿Cuántos datos ingresará?: \"))\n",
        "\n",
        "b, A, a, y, h, h2, D, B =  np.zeros((d,1), dtype = np.float32), np.zeros((d,d), dtype = np.float32), [],[],[],[],[], []\n",
        "\n",
        "def funcion(x):\n",
        "  return 1/x\n",
        "\n",
        "for z in range(d):\n",
        "  pr = float(input(f'Ingrese el valor de x{z}:  '))\n",
        "  y.append(pr)\n",
        "  pr1 = float(input(f'Ingrese el valor de f(x{z}):  '))\n",
        "  a.append(pr1)\n",
        "\n",
        "for n in range(len(y)-2):\n",
        "  nuevo = []\n",
        "  h0 = y[n+1]-y[n]\n",
        "  h1 = y[n+2]-y[n+1]\n",
        "  nuevo.append(h0)\n",
        "  nuevo.append(2*(h0+h1))\n",
        "  nuevo.append(h1)\n",
        "  h.append(nuevo)\n",
        "\n",
        "for m in range(len(y)-1):\n",
        "  h3 = y[m+1]-y[m]\n",
        "  h2.append(h0)\n",
        "\n",
        "p = 1\n",
        "for j in range(d):\n",
        "  if j == 0:\n",
        "    A[0][0] = 1\n",
        "  elif j == 1:\n",
        "    for i in range(j+2):\n",
        "      A[j][i] = h[j-1][i]\n",
        "  elif j == d-1:\n",
        "    A[j][j] = 1\n",
        "  else:\n",
        "    for i in range(j+1):\n",
        "      A[j][i+p] = h[j-1][i]\n",
        "    p += 1\n",
        "\n",
        "for k in range(d):\n",
        "  if k == 0 or k == d-1 :\n",
        "    b[0][0] = 0\n",
        "  else:\n",
        "    sum1 = 3/h2[k]*(a[k+1]-a[k])\n",
        "    sum2 = 3/h2[k-1]*(a[k]-a[k-1])\n",
        "    b[k][0] = sum1 - sum2\n",
        "\n",
        "x = np.linalg.inv(A)\n",
        "x1 = x.dot(b)\n",
        "\n",
        "for f in range(len(x1)-1):\n",
        "  dj = (x1[f+1][0]-x1[f][0])/3*h2[f]\n",
        "  D.append(dj)\n",
        "\n",
        "for w in range(len(x1)-1):\n",
        "  arr = (a[w+1]-a[w])/h2[w]\n",
        "  aba =(h2[w]) * (x1[w+1][0]+2*x1[w][0])/3\n",
        "  B.append(arr-aba)\n",
        "\n",
        "\n",
        "\n",
        "print(\"El spline cúbico natural se describe por tramos mediante: \")\n",
        "print(\"\\n\")\n",
        "for q in range(d-1):\n",
        "  Spline = [f'{a[q]}']\n",
        "  Spline.append(f'+ {B[q]} *')\n",
        "  Spline.append(f'(x - {y[q]} )')\n",
        "  Spline.append(f'+ {str(x1[q])} *')\n",
        "  Spline.append(f'(x - {y[q]} )²')\n",
        "  Spline.append(f'+ {D[q]} *')\n",
        "  Spline.append(f'(x - {y[q]} )³')\n",
        "  print(' '.join(Spline))"
      ]
    }
  ]
}
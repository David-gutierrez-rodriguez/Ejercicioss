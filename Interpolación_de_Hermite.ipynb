{
  "nbformat": 4,
  "nbformat_minor": 0,
  "metadata": {
    "colab": {
      "provenance": [],
      "authorship_tag": "ABX9TyOwJNjd92dAAIO05CasFiud",
      "include_colab_link": true
    },
    "kernelspec": {
      "name": "python3",
      "display_name": "Python 3"
    },
    "language_info": {
      "name": "python"
    }
  },
  "cells": [
    {
      "cell_type": "markdown",
      "metadata": {
        "id": "view-in-github",
        "colab_type": "text"
      },
      "source": [
        "<a href=\"https://colab.research.google.com/github/David-gutierrez-rodriguez/Ejercicioss/blob/main/Interpolaci%C3%B3n_de_Hermite.ipynb\" target=\"_parent\"><img src=\"https://colab.research.google.com/assets/colab-badge.svg\" alt=\"Open In Colab\"/></a>"
      ]
    },
    {
      "cell_type": "code",
      "execution_count": 89,
      "metadata": {
        "colab": {
          "base_uri": "https://localhost:8080/"
        },
        "id": "jp3hi7QO_vMd",
        "outputId": "de75048c-8ed6-4788-d0d2-79747ea40a2d"
      },
      "outputs": [
        {
          "output_type": "stream",
          "name": "stdout",
          "text": [
            "Ingresa la cantidad de datos: 2\n",
            "Ingresa el valor de x_0 8.3\n",
            "Ingresa el valor de y_0 17.56492\n",
            "Ingresa el valor de y'_0 3.116256\n",
            "Ingresa el valor de x_1 8.6\n",
            "Ingresa el valor de y_1 18.50515\n",
            "Ingresa el valor de y'_1 3.151762\n",
            "\n",
            "i\tx_i\ty_i\ty'_i\n",
            "0\t8.3\t17.56492\t3.116256\t\n",
            "1\t8.6\t18.50515\t3.151762\t\n"
          ]
        }
      ],
      "source": [
        "#Captura de datos\n",
        "X, Y, Yp = [], [], []\n",
        "z = {\"Z\" : [], 0 : [], 1 : []}\n",
        "n = int(input(\"Ingresa la cantidad de datos: \"))\n",
        "for i in range(n):\n",
        "  X.append(float(input(f\"Ingresa el valor de x_{i} \")))\n",
        "  Y.append(float(input(f\"Ingresa el valor de y_{i} \")))\n",
        "  Yp.append(float(input(f\"Ingresa el valor de y'_{i} \")))\n",
        "  for j in range(2):\n",
        "    z[\"Z\"].append(X[i])\n",
        "    z[0].append(Y[i])\n",
        "#Imprime la tabla con los datos igresados\n",
        "print(\"\\ni\\tx_i\\ty_i\\ty'_i\")\n",
        "for i in range(n): print(f'{i}\\t{X[i]}\\t{Y[i]}\\t{Yp[i]}\\t')"
      ]
    },
    {
      "cell_type": "code",
      "source": [
        "#primeras diferencias divididas\n",
        "for i in range(2 * n - 1):\n",
        "  if i % 2 == 0:\n",
        "    z[1].append(Yp[int(i / 2)])\n",
        "  else:\n",
        "    z[1].append(round((z[0][i + 1] - z[0][i]) / (z[\"Z\"][i + 1] - z[\"Z\"][i]), len(str(Yp[n - 1]).split(\".\")[1])))"
      ],
      "metadata": {
        "colab": {
          "base_uri": "https://localhost:8080/"
        },
        "id": "zCACthfvGuwv",
        "outputId": "4f0ba9cf-5ed0-4a8a-ab71-3a5e4aa016af"
      },
      "execution_count": 90,
      "outputs": [
        {
          "output_type": "stream",
          "name": "stdout",
          "text": [
            "{'Z': [8.3, 8.3, 8.6, 8.6], 0: [17.56492, 17.56492, 18.50515, 18.50515], 1: [3.116256, 3.1341, 3.151762]}\n"
          ]
        }
      ]
    },
    {
      "cell_type": "code",
      "source": [
        "#n-ésimas diferencias divididas\n",
        "for i in range(2, 2 * n):\n",
        "  z[i] = []\n",
        "  for j in range(2 * n - i):\n",
        "      z[i].append(round(\n",
        "          (z[i - 1][j + 1] - z[i - 1][j]) /\n",
        "          (z[\"Z\"][i + j] - z[\"Z\"][j]),\n",
        "          len(str(Yp[n - 1]).split(\".\")[1])))"
      ],
      "metadata": {
        "colab": {
          "base_uri": "https://localhost:8080/"
        },
        "id": "0P7mpvWSH6GJ",
        "outputId": "cf357f83-7b4b-4c57-b1e3-e246e92e899e"
      },
      "execution_count": 91,
      "outputs": [
        {
          "output_type": "stream",
          "name": "stdout",
          "text": [
            "{'Z': [8.3, 8.3, 8.6, 8.6], 0: [17.56492, 17.56492, 18.50515, 18.50515], 1: [3.116256, 3.1341, 3.151762], 2: [0.05948, 0.058873], 3: [-0.002023]}\n"
          ]
        }
      ]
    },
    {
      "cell_type": "code",
      "source": [
        "#Cálculo del polinomio de Hermite\n",
        "x_0 = float(input(\"Ingrese el valor para interpolar: \"))\n",
        "H, Hx = z[0][0], f\"{z[0][0]}\"\n",
        "for i in range(1, 2 * n):\n",
        "  p, px = 1, \"\"\n",
        "  for j in range(i):\n",
        "    p *= x_0 - z[\"Z\"][j]\n",
        "    px += f'(x - {z[\"Z\"][j]})'\n",
        "  H += z[i][0] * p\n",
        "  Hx += f' + {z[i][0]}{px}'\n",
        "print(f\"El polinomio de Hermite es H(x) = {Hx}\")\n",
        "print(f\"El valor aproximado de {x_0} es H({x_0}) = {H}\")"
      ],
      "metadata": {
        "colab": {
          "base_uri": "https://localhost:8080/"
        },
        "id": "xSYQoOQql7AD",
        "outputId": "d3e7da84-35bd-4562-9542-016df38f1b9c"
      },
      "execution_count": 104,
      "outputs": [
        {
          "output_type": "stream",
          "name": "stdout",
          "text": [
            "Ingrese el valor para interpolar: 5\n",
            "El polinomio de Hermite es H(x) = 17.56492 + 3.116256(x - 8.3) + 0.05948(x - 8.3)(x - 8.3) + -0.002023(x - 8.3)(x - 8.3)(x - 8.6)\n",
            "El valor aproximado de 5.0 es H(5.0) = 8.008322092\n"
          ]
        }
      ]
    }
  ]
}
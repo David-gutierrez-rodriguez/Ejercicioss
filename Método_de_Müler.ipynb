{
  "nbformat": 4,
  "nbformat_minor": 0,
  "metadata": {
    "colab": {
      "provenance": [],
      "authorship_tag": "ABX9TyOOAyI7qxIQVdZlcdCnugIY",
      "include_colab_link": true
    },
    "kernelspec": {
      "name": "python3",
      "display_name": "Python 3"
    },
    "language_info": {
      "name": "python"
    }
  },
  "cells": [
    {
      "cell_type": "markdown",
      "metadata": {
        "id": "view-in-github",
        "colab_type": "text"
      },
      "source": [
        "<a href=\"https://colab.research.google.com/github/David-gutierrez-rodriguez/Ejercicioss/blob/main/M%C3%A9todo_de_M%C3%BCler.ipynb\" target=\"_parent\"><img src=\"https://colab.research.google.com/assets/colab-badge.svg\" alt=\"Open In Colab\"/></a>"
      ]
    },
    {
      "cell_type": "code",
      "execution_count": null,
      "metadata": {
        "id": "tMybcjfoDL8z"
      },
      "outputs": [],
      "source": [
        "import cmath as cmt\n",
        "def f(x):\n",
        "  #return 16 * x ** 4 - 40 * x ** 3 + 5 * x ** 2 + 20 * x + 6\n",
        "  return x ** 2 - 2"
      ]
    },
    {
      "cell_type": "code",
      "source": [
        "X, g, cont = [], [], 0\n",
        "for i in range(3):\n",
        "  X.append(float(input(f\"Ingresa el valor de  x_{i}: \")))\n",
        "  g.append(f(X[i]))\n",
        "error = float(input(\"Ingresa el valor del error: \"))\n",
        "e = error + 1\n",
        "print(f\"n \\t\\t\\tP_n \\t\\t\\t\\t error\")\n",
        "while e > error:\n",
        "  a = ((g[0] - g[2]) * (X[1] - X[2]) - (g[1] - g[2]) * (X[0] - X[2])) / ((X[1] - X[2]) * (X[0] - X[2]) * (X[0] - X[1]))\n",
        "  b = ((g[1] - g[2]) * (X[0] - X[2]) ** 2 - (g[0] - g[2]) * (X[1] - X[2]) ** 2) / ((X[1] - X[2]) * (X[0] - X[2]) * (X[0] - X[1]))\n",
        "  c = g[2]\n",
        "  for i in range(2): X[i] = X[i + 1]  \n",
        "  X[2] = X[1] - (2 * c) / (b + cmt.sqrt(b ** 2 - 4 * a * c))\n",
        "  for i in range(3): g[i] = f(X[i])\n",
        "  e = abs(X[2] - X[1])\n",
        "  print(f\"{cont}\\t{X[2]}\\t{e}\")\n",
        "  cont += 1\n",
        "print(f\"\\n La raíz con un error de {error} es aproximadamente {X[2]}\")"
      ],
      "metadata": {
        "colab": {
          "base_uri": "https://localhost:8080/"
        },
        "id": "FiScEXzfEfqO",
        "outputId": "8db22e63-4208-47e3-d162-8aa340a1da5b"
      },
      "execution_count": null,
      "outputs": [
        {
          "output_type": "stream",
          "name": "stdout",
          "text": [
            "Ingresa el valor de  x_0: 1\n",
            "Ingresa el valor de  x_1: 4\n",
            "Ingresa el valor de  x_2: 3\n",
            "Ingresa el valor del error: 0.00001\n",
            "n \t\t\tP_n \t\t\t\t error\n",
            "0\t(1.414213562373095+0j)\t1.585786437626905\n",
            "1\t(1.4142135623730951+0j)\t2.220446049250313e-16\n",
            "\n",
            " La raíz con un error de 1e-05 es aproximadamente (1.4142135623730951+0j)\n"
          ]
        }
      ]
    }
  ]
}
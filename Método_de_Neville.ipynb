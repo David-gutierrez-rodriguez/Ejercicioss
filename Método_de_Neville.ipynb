{
  "nbformat": 4,
  "nbformat_minor": 0,
  "metadata": {
    "colab": {
      "provenance": [],
      "authorship_tag": "ABX9TyMhcsclxoUpyYdQisal/N1u",
      "include_colab_link": true
    },
    "kernelspec": {
      "name": "python3",
      "display_name": "Python 3"
    },
    "language_info": {
      "name": "python"
    }
  },
  "cells": [
    {
      "cell_type": "markdown",
      "metadata": {
        "id": "view-in-github",
        "colab_type": "text"
      },
      "source": [
        "<a href=\"https://colab.research.google.com/github/David-gutierrez-rodriguez/Ejercicioss/blob/main/M%C3%A9todo_de_Neville.ipynb\" target=\"_parent\"><img src=\"https://colab.research.google.com/assets/colab-badge.svg\" alt=\"Open In Colab\"/></a>"
      ]
    },
    {
      "cell_type": "code",
      "execution_count": null,
      "metadata": {
        "id": "pSSnJ3Civ2ZX"
      },
      "outputs": [],
      "source": [
        "Q = {\"X\" : []} #Diccionario para la captura de datos\n",
        "n = int(input(\"Ingrese la cantidad de datos: \"))\n",
        "for i in range(n):\n",
        "  Q[\"X\"].append(float(input(f\"Ingrese el valor de x_{i}: \")))\n",
        "  Q[i] = []\n",
        "  Q[0].append(float(input(f\"Ingrese el valor de y_{i}: \")))"
      ]
    },
    {
      "cell_type": "code",
      "source": [
        "x_0 = float(input(\"Ingresa el valor a interpolar: \"))\n",
        "#Ciclo que calcula Q_i,j y lo añade al diccionario Q\n",
        "for i in range(1, n):\n",
        "  for j in range(n - i):\n",
        "    Q[i].append(round(\n",
        "              ((x_0 - Q[\"X\"][j]) * Q[i - 1][j + 1] -\n",
        "              (x_0 - Q[\"X\"][j + 1]) * Q[i- 1][j])\n",
        "              / (Q[\"X\"][j + 1] - Q[\"X\"][j]), len(str(Q[0][n -1]).split(\".\")[1])))\n",
        "\n",
        "print(f\"El valor aproximado de f({x_0}) es {Q[n - 1][0]}\")\n",
        "for i in range(1, n): Q[i].clear() #Limpia los valores previamente calculados para poder hacer una aproximación nueva"
      ],
      "metadata": {
        "colab": {
          "base_uri": "https://localhost:8080/"
        },
        "id": "BEeBYOuM2-66",
        "outputId": "4349da4d-0401-4517-a11b-599c59f741de"
      },
      "execution_count": null,
      "outputs": [
        {
          "output_type": "stream",
          "name": "stdout",
          "text": [
            "Ingresa el valor a interpolar: 2.1\n",
            "El valor aproximado de f(2.1) es 0.7424\n"
          ]
        }
      ]
    }
  ]
}
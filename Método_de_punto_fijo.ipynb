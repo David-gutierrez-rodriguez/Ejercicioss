{
  "nbformat": 4,
  "nbformat_minor": 0,
  "metadata": {
    "colab": {
      "provenance": [],
      "authorship_tag": "ABX9TyNLd2mbBJUVWAqTU/XVXrCw",
      "include_colab_link": true
    },
    "kernelspec": {
      "name": "python3",
      "display_name": "Python 3"
    },
    "language_info": {
      "name": "python"
    }
  },
  "cells": [
    {
      "cell_type": "markdown",
      "metadata": {
        "id": "view-in-github",
        "colab_type": "text"
      },
      "source": [
        "<a href=\"https://colab.research.google.com/github/David-gutierrez-rodriguez/Ejercicioss/blob/main/M%C3%A9todo_de_punto_fijo.ipynb\" target=\"_parent\"><img src=\"https://colab.research.google.com/assets/colab-badge.svg\" alt=\"Open In Colab\"/></a>"
      ]
    },
    {
      "cell_type": "code",
      "execution_count": 78,
      "metadata": {
        "id": "GVOLqIX1TRsu"
      },
      "outputs": [],
      "source": [
        "def fun(x):\n",
        "  return (x + 1) ** (1 / 3)"
      ]
    },
    {
      "cell_type": "code",
      "source": [
        "def Punto_fijo(p, e, m):\n",
        "  if fun(p) == 0:\n",
        "    print(f\"La raíz es {p}\")\n",
        "  else:\n",
        "    print(f\"n\\tx_i\\t\\tError\")\n",
        "    c, E = 0, 100\n",
        "    while E > e and m > c:\n",
        "      c += 1\n",
        "      n = fun(p)\n",
        "      E = abs(n - p)\n",
        "      p = n\n",
        "      print(f\"{c}\\t{round(n,8)}\\t{E}\")\n",
        "    print(f\"La raíz es aproximadamente {n}\")"
      ],
      "metadata": {
        "id": "8vk0GOwlUJtc"
      },
      "execution_count": 74,
      "outputs": []
    },
    {
      "cell_type": "code",
      "source": [
        "while True:\n",
        "  try:\n",
        "    p_0 = float(input(\"Ingresa el valor inicial: \"))\n",
        "    E_0 = float(input(\"Ingresa el valor del error: \"))\n",
        "    max = int(input(\"Ingresa el número máximo de iteraciones: \"))\n",
        "    break\n",
        "  except:\n",
        "    print(\"Ingresa valores numéricos\")"
      ],
      "metadata": {
        "colab": {
          "base_uri": "https://localhost:8080/"
        },
        "id": "nxJtn-hNTWTs",
        "outputId": "f97d1ecb-bc78-4900-9c99-e0251c8f6152"
      },
      "execution_count": 76,
      "outputs": [
        {
          "name": "stdout",
          "output_type": "stream",
          "text": [
            "Ingresa el valor inicial: 0\n",
            "Ingresa el valor del error: 0.001\n",
            "Ingresa el número máximo de iteraciones: 100\n"
          ]
        }
      ]
    },
    {
      "cell_type": "code",
      "source": [
        "Punto_fijo(p_0, E_0, max)"
      ],
      "metadata": {
        "colab": {
          "base_uri": "https://localhost:8080/"
        },
        "id": "PRDbucG-VHtl",
        "outputId": "d5825f81-6a76-4c64-8bf6-c45e30c275ab"
      },
      "execution_count": 79,
      "outputs": [
        {
          "output_type": "stream",
          "name": "stdout",
          "text": [
            "n\tx_i\t\tError\n",
            "1\t1.0\t1.0\n",
            "2\t1.25992105\t0.2599210498948732\n",
            "3\t1.31229384\t0.052372786788415615\n",
            "4\t1.32235382\t0.010059982455536076\n",
            "5\t1.32426874\t0.0019149254127530657\n",
            "6\t1.32463263\t0.0003638806993422339\n",
            "La raíz es aproximadamente 1.3246326252509202\n"
          ]
        }
      ]
    }
  ]
}
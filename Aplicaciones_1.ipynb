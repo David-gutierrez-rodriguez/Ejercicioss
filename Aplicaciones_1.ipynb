{
  "nbformat": 4,
  "nbformat_minor": 0,
  "metadata": {
    "colab": {
      "provenance": [],
      "collapsed_sections": [
        "2Q1xHCLBSK2a",
        "R13y8FAe4s0M"
      ],
      "authorship_tag": "ABX9TyMIRreZ+uZKntStCx0HPhuS",
      "include_colab_link": true
    },
    "kernelspec": {
      "name": "python3",
      "display_name": "Python 3"
    },
    "language_info": {
      "name": "python"
    }
  },
  "cells": [
    {
      "cell_type": "markdown",
      "metadata": {
        "id": "view-in-github",
        "colab_type": "text"
      },
      "source": [
        "<a href=\"https://colab.research.google.com/github/David-gutierrez-rodriguez/Ejercicioss/blob/main/Aplicaciones_1.ipynb\" target=\"_parent\"><img src=\"https://colab.research.google.com/assets/colab-badge.svg\" alt=\"Open In Colab\"/></a>"
      ]
    },
    {
      "cell_type": "markdown",
      "source": [
        "Durante una ronda de inspección por una reserva, dos guardabosques descubrieron\n",
        "el cadáver de un jabalí. Un examen preliminar permitió concluir que el animal falleció\n",
        "instantáneamente a causa de un balazo de una cazador furtivo. sospechando que el cazador debía regresar a recoger su presa, los guardas decidieron esperarlo escondidos no lejos del lugar del crimen. Al poco tiempo aparecieron dos sujetos y se dirigieron sin rodeos al jabalí. Al ser detenidos los desconocidos negaron rotundamente su participación en el delito. Aunque los guardabosques tenían pruebas indirectas\n",
        "de su culpabilidad, para obtener una prueba fehaciente era necesario determinar el instante exacto en que el jabalí fue muerto.\n",
        "Conforme a la ley de radiación de calor la velocidad de enfriamiento de un cuerpo en el medio ambiente es proporcionar a la diferencia. Entre la temperatura del cuerpo y la temperatura del medio\n",
        "\n",
        "$$\\frac{dx}{dt}=k(x-a)$$\n",
        "Donde $x$ es la temperatura del cuerpo en el instante $t$, a es la temperatura del medio ambiente y $k$ es un factor positivo de proporcionalidad, $x_0$ es la temperatura del cuerpo en el instante $t = 0$.\n",
        "\n",
        "a) Si en el instante en que fueron detenidos los sospechosos la temperatura $x$ del cuerpo del jabalí era igual a 31ºC y pasada una hora era igual a 29ºC, entonces, considerando que en el instante del disparo $x = 37$ºC y $a = 21$ºC, y tomando el instante del arresto como $t = 0$, determinar el momento del disparo.\n",
        "\n",
        "b) En el caso cuando la temperatura del aire varía con el tiempo, la ley de enfriamiento del cuerpo se convierte en la ecuación diferencial lineal no homogénea.\n",
        "\n",
        "$$\\frac{dx}{dt}=kx-ka(t)$$\n",
        "\n",
        "Donde $a(t)$ es la temperatura del aire en el instante $t$. Hagamos algunas conjeturas: en el instante de la detención de los sospechosos la temperatura del cuerpo del jabalí era igual a 30ºC; el día del acontecimiento la temperatura del aire descendió cada hora después del medio día en 1ºC y era igual a 0ºC en el instante del hallazgo del cadáver; finalmente, pongamos que al cabo de una hora de ser detectado el animal, su temperatura bajó hasta 25ºC. Tomando $t = 0$ como en el instante del disparo, asumiendo que entonces la temperatura corporal del jabalí era $x_0 = 37$ºC y denotando con $t^*$ el instante en que los guardabosques descubrieron el cadáver, obtenemos $a(t) = t^*-t$. Hallar de nuevo el momento en que murió el jabalí."
      ],
      "metadata": {
        "id": "AzAOaF4J0ZIT"
      }
    },
    {
      "cell_type": "markdown",
      "source": [
        "#Newton-Raphson"
      ],
      "metadata": {
        "id": "2Q1xHCLBSK2a"
      }
    },
    {
      "cell_type": "code",
      "source": [
        "import numpy as np\n",
        "def f(x):\n",
        "  return (5.621261 + 0.178953 * x) * np.e ** (0.178953 * t) - 4.36859\n",
        "def g(x):\n",
        "  return (1.184895 + 0.032024 * x) * np.e ** (0.178953 * x)\n",
        "p_n = float(input(\"Ingresa la primera aporximación: \"))\n",
        "error = float(input(\"Ingresa el error de la aproximación: \"))\n",
        "e, c = 1, 0\n",
        "print(f\"n \\t\\t P_n \\t\\t\\t Error\")\n",
        "while e > error:\n",
        "  print(f\"{c}\\t {p_n}\\t{e}\")\n",
        "  c += 1\n",
        "  t = p_n\n",
        "  if g(p_n) != 0:\n",
        "    p_n -= f(p_n) / g(p_n)\n",
        "  else:\n",
        "    print(\"Divisón por cero\")\n",
        "    break\n",
        "  e = abs(t - p_n)\n",
        "if g(p_n) != 0:\n",
        "  print(f\"{c} \\t {p_n} \\t{abs(t - p_n)}\")\n",
        "  print(f\"\\n La raíz con un error de {error} es aproximadamente {p_n}\")"
      ],
      "metadata": {
        "colab": {
          "base_uri": "https://localhost:8080/"
        },
        "id": "ghzoCF7LSOVu",
        "outputId": "02687b17-3a3b-49e7-f907-76587f503959"
      },
      "execution_count": null,
      "outputs": [
        {
          "output_type": "stream",
          "name": "stdout",
          "text": [
            "Ingresa la primera aporximación: -1\n",
            "Ingresa el error de la aproximación: 0.000001\n",
            "n \t\t P_n \t\t\t Error\n",
            "0\t -1.0\t1\n",
            "1\t -1.1887715996890686\t0.18877159968906865\n",
            "2\t -1.1925532801554792\t0.0037816804664105863\n",
            "3\t -1.192554762496123\t1.4823406437880493e-06\n",
            "4 \t -1.192554762497243 \t1.119992987241858e-12\n",
            "\n",
            " La raíz con un error de 1e-06 es aproximadamente -1.192554762497243\n"
          ]
        }
      ]
    },
    {
      "cell_type": "markdown",
      "source": [
        "# Solución a)"
      ],
      "metadata": {
        "id": "R13y8FAe4s0M"
      }
    },
    {
      "cell_type": "markdown",
      "source": [
        "Tenemos la ecuación diferncial\n",
        "$$\\frac{dx}{dt}=k(x-a)$$\n",
        "Usamos $t = 0$ como el tiempo de detención de los sospechosos\n",
        "\n",
        "Resoleviendo por variables separables tenemos\n",
        "$$ln\\left(\\frac{x-a}{x_0-a}\\right) = -kt \\quad (1)$$\n",
        "Usando los datos del problema y sustituyendo en la ecuación anterior tenemos\n",
        "$$k=ln\\left(\\frac{31-21}{29-21}\\right) = 0.22314$$\n",
        "Despejando de la ecuación (1) y sustituyendo el valor de $k$ y $x = 37$, obtenemos\n",
        "$$t=\\frac{1}{0.22314}ln\\left(\\frac{37-21}{31-21}\\right) = -2.1063$$\n",
        "Por lo tanto, el disparo al jabalí fue hecho 2 horas, 6 minutos y 23 segundos antes de que los sospechosos fueran detenidos"
      ],
      "metadata": {
        "id": "_xW5YNm040AE"
      }
    },
    {
      "cell_type": "markdown",
      "source": [
        "# Solución b)"
      ],
      "metadata": {
        "id": "YVeJORtP69Io"
      }
    },
    {
      "cell_type": "markdown",
      "source": [
        "En este caso, ya que la temmperatura del ambiente cambia respecto al tiempo tenemos la ecuación diferencial\n",
        "$$\\frac{dx}{dt} + kx = ka(t) \\quad (1)$$\n",
        "Tomando $t = 0$ como el momento del disparo, y $t^*$ como el instante en el que los guardabosques descubrieron el cadáver, obtenemos\n",
        "$$a(t) = t^* - t$$\n",
        "Haciendo la sustitución en (1) y resolviendo llegamos a\n",
        "$$\\frac{dx}{dt} + kx = k(t^* - t)$$\n",
        "$$x = \\left(37 - t^* - \\frac{1}{k}\\right)e^{-kt} + t^* - t + \\frac{1}{k} \\quad (2)$$\n",
        "Teniendo en cuenta que $x = 30$ para $t^* = t$ , y que $x = 25$ para\n",
        "$t = t^* + 1$, de la última expresión obtenemos las igualdades\n",
        "$$\\left(37 - t^* - \\frac{1}{k}\\right)e^{-kt^*} + \\frac{1}{k} = 30$$\n",
        "$$\\left(37 - t^* - \\frac{1}{k}\\right)e^{-k(t^* + 1)} + \\frac{1}{k} = 26$$\n",
        "Luego entonces, tenemos:\n",
        "$$\\left(30 - \\frac{1}{k}\\right)e^{-k} - 26 + \\frac{1}{k} = 0 \\quad (3)$$\n",
        "y la ecuación (2), después de tomar $x = 37$, toma la forma\n",
        "$$(37k - 1 + kt)e^{kt} - 30k + 1 = 0 \\quad (4)$$\n",
        "Para resolver esto hacemos uso del método de Newton-Raphson, así, reescribimos a (2)\n",
        "$$30k - 1 + (1 - 26k)e^k = 0$$\n",
        "Luego definimos $f(k)$ y derivamos\n",
        "$$f(k) = 30k - 1 + (1 - 26k)e^k$$\n",
        "$$f'(k) = 30 - (25 + 26k)e^k$$\n",
        "Notemos que $f'(k) = 0$ si $k = 0.0914595$\n",
        "Además $f(0.1) \\approx 0.2317$ y $f(1) \\approx -38.95$, lo que nos dice que hay una raíz en [0.1,1]\n",
        "\n",
        "Procedemos a usar el método de Newton con $x_0 = 0.5$\n",
        "\n",
        "Usando un programa realizado en el curso, tenemos que $k = 0.178953$\n",
        "Luego, susitiuímos el valor de $k$ en (4)\n",
        "$$(6.621261 - 1 + 0.178953t)e^{0.178953t} - 5.36859 + 1 = 0$$\n",
        "Para hallar el valor de $t$, procedemos de forma análoga\n",
        "$$g(t) = (5.621261 + 0.178953t)e^{0.178953t} - 4.36859$$\n",
        "$$g'(t) = (1.184895 + 0.032024t)e^{0.178953t}$$\n",
        "Entonces $t = -1.192555$\n",
        "\n",
        "Finalmente, podemos decir que el jabalí murió 1 hora, 11 minutos y 33 segundos antes de que lo encontraran\n"
      ],
      "metadata": {
        "id": "Qa7gcFuI7ANX"
      }
    }
  ]
}
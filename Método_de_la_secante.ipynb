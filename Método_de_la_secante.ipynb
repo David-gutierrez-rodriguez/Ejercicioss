{
  "nbformat": 4,
  "nbformat_minor": 0,
  "metadata": {
    "colab": {
      "provenance": [],
      "authorship_tag": "ABX9TyNMJ0vs4HOUiQPzWtXj7/4S",
      "include_colab_link": true
    },
    "kernelspec": {
      "name": "python3",
      "display_name": "Python 3"
    },
    "language_info": {
      "name": "python"
    }
  },
  "cells": [
    {
      "cell_type": "markdown",
      "metadata": {
        "id": "view-in-github",
        "colab_type": "text"
      },
      "source": [
        "<a href=\"https://colab.research.google.com/github/David-gutierrez-rodriguez/Ejercicioss/blob/main/M%C3%A9todo_de_la_secante.ipynb\" target=\"_parent\"><img src=\"https://colab.research.google.com/assets/colab-badge.svg\" alt=\"Open In Colab\"/></a>"
      ]
    },
    {
      "cell_type": "code",
      "execution_count": 9,
      "metadata": {
        "id": "9GdAx2elPD0s"
      },
      "outputs": [],
      "source": [
        "def f(x):\n",
        "    return x ** 2 - 2"
      ]
    },
    {
      "cell_type": "code",
      "source": [
        "p, g, c = [0], [], 0\n",
        "for i in range(1, 3):\n",
        "  p.append(float(input(f\"Ingresa el valor de p_{i - 1}: \")))\n",
        "  g.append(f(p[i]))\n",
        "error = float(input(\"Ingresa el error: \"))\n",
        "e = error + 1\n",
        "print(\"n \\t\\t p_n \\t\\t error\")\n",
        "while e > error:\n",
        "  for i in range(2): p[i] = p[i + 1]\n",
        "  p[2] = p[1] - ((g[1]) * (p[1] - p[0])) / (g[1] - g[0])\n",
        "  for i in range(2): g[i] = f(p[i])\n",
        "  print(f\"{c} \\t\\t\\t {p[2]}\\t\\t\\t{e}\")\n",
        "  e = abs(p[2] - p[1])\n",
        "  c += 1\n",
        "print(f\"\\n La raíz con un error de {error} es aproximadamente {p[2]}\")"
      ],
      "metadata": {
        "colab": {
          "base_uri": "https://localhost:8080/"
        },
        "id": "tAWL6rS6PKIb",
        "outputId": "01b512af-0115-414f-d1fc-3b059309ca2b"
      },
      "execution_count": 22,
      "outputs": [
        {
          "output_type": "stream",
          "name": "stdout",
          "text": [
            "Ingresa el valor de p_0: 1.3\n",
            "Ingresa el valor de p_1: 1.4\n",
            "Ingresa el error: 0.01\n",
            "n \t\t p_n \t\t error\n",
            "0 \t\t\t 1.4148148148148147\t\t\t1.01\n",
            "1 \t\t\t 1.4170096021947873\t\t\t0.014814814814814836\n",
            "\n",
            " La raíz con un error de 0.01 es aproximadamente 1.4170096021947873\n"
          ]
        }
      ]
    }
  ]
}
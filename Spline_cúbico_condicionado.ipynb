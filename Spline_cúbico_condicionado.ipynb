{
  "nbformat": 4,
  "nbformat_minor": 0,
  "metadata": {
    "colab": {
      "provenance": [],
      "authorship_tag": "ABX9TyMi8gzSRBSm9FoTBO5TN8Ui",
      "include_colab_link": true
    },
    "kernelspec": {
      "name": "python3",
      "display_name": "Python 3"
    },
    "language_info": {
      "name": "python"
    }
  },
  "cells": [
    {
      "cell_type": "markdown",
      "metadata": {
        "id": "view-in-github",
        "colab_type": "text"
      },
      "source": [
        "<a href=\"https://colab.research.google.com/github/David-gutierrez-rodriguez/Ejercicioss/blob/main/Spline_c%C3%BAbico_condicionado.ipynb\" target=\"_parent\"><img src=\"https://colab.research.google.com/assets/colab-badge.svg\" alt=\"Open In Colab\"/></a>"
      ]
    },
    {
      "cell_type": "code",
      "execution_count": null,
      "metadata": {
        "id": "cOE6WyS3mL46",
        "colab": {
          "base_uri": "https://localhost:8080/"
        },
        "outputId": "e38005ca-63ac-4c79-801c-ffdeae1f6c6d"
      },
      "outputs": [
        {
          "name": "stdout",
          "output_type": "stream",
          "text": [
            "Ingrese la cantidad de puntos: 5\n",
            "Ingrese el valor de x_0: 1\n",
            "ingresa el valor de f(1.0): 2\n",
            "Ingrese el valor de x_1: 3\n",
            "ingresa el valor de f(3.0): 4\n",
            "Ingrese el valor de x_2: 5\n",
            "ingresa el valor de f(5.0): 6\n",
            "Ingrese el valor de x_3: 7\n",
            "ingresa el valor de f(7.0): 8\n",
            "Ingrese el valor de x_4: 9\n",
            "ingresa el valor de f(9.0): 10\n",
            "Ingrese el valor de f'(1.0): 11\n",
            "Ingrese el valor de f'(9.0): 12\n"
          ]
        }
      ],
      "source": [
        "X, H, alpha = [], [], []\n",
        "L, mu, Z = [], [], []\n",
        "abcd = {\"a\" : [], \"b\" : [], \"c\" : [], \"d\" : [], }\n",
        "n = int(input(\"Ingrese la cantidad de puntos: \")) - 1\n",
        "for i in range(n + 1):\n",
        "  X.append(float(input(f\"Ingrese el valor de x_{i}: \")))\n",
        "  abcd[\"a\"].append(float(input(f\"ingresa el valor de f({X[i]}): \")))\n",
        "  alpha.append(0)\n",
        "  abcd[\"c\"].append(0)\n",
        "\n",
        "FPO = float(input(f\"Ingrese el valor de f'({X[0]}): \"))\n",
        "FPN = float(input(f\"Ingrese el valor de f'({X[n]}): \"))"
      ]
    },
    {
      "cell_type": "code",
      "source": [
        "for i in range(n):\n",
        "  H.append(X[i + 1] - X[i])\n",
        "\n",
        "alpha[0] = 3 * (abcd[\"a\"][1] - abcd[\"a\"][0]) / H[0] - 3 * FPO\n",
        "alpha[n] = 3 * FPN - 3 * (abcd[\"a\"][n] - abcd[\"a\"][n - 1]) / H[n - 1]\n",
        "\n",
        "for i in range(1, n):\n",
        "  alpha[i] = 3 * (abcd[\"a\"][i + 1] - abcd[\"a\"][i]) / H[i] - 3 * (abcd[\"a\"][i] - abcd[\"a\"][i - 1]) / H[i - 1]\n",
        "\n",
        "L.append(2 * H[0])\n",
        "mu.append(0.5)\n",
        "Z.append(alpha[0] / L[0])\n",
        "\n",
        "for i in range(1, n):\n",
        "  L.append(2 * (X[i + 1] - X[i - 1]) - H[i - 1] * mu[i - 1])\n",
        "  mu.append(H[i] / L[i])\n",
        "  Z.append((alpha[i] - H[i - 1] * Z[i - 1]) / L[i])\n",
        "\n",
        "L.append(H[n - 1] * (2 - mu[n - 1]))\n",
        "Z.append((alpha[n] - H[n - 1] * Z[n - 1]) / L[n])\n",
        "abcd[\"c\"][n] = (Z[n])"
      ],
      "metadata": {
        "id": "KzrPo9cnyDB3"
      },
      "execution_count": null,
      "outputs": []
    },
    {
      "cell_type": "code",
      "source": [
        "for j in range(n - 1, -1, -1):\n",
        "  abcd[\"c\"].append(Z[j] - mu[j] * abcd[\"c\"][j + 1])\n",
        "  abcd[\"b\"].append((abcd[\"a\"][j + 1] - abcd[\"a\"][j]) / H[j] - H[j] * (abcd[\"c\"][j+1] + 2 * abcd[\"c\"][j]) / 3)\n",
        "  abcd[\"d\"].append((abcd[\"c\"][j + 1] - abcd[\"c\"][j]) / (3 * H[j]))\n",
        "for i in range(2): abcd[\"c\"].remove(0)\n",
        "abcd[\"a\"].pop()\n",
        "abcd[\"c\"].pop()"
      ],
      "metadata": {
        "id": "MkxpknuoKSaN",
        "colab": {
          "base_uri": "https://localhost:8080/"
        },
        "outputId": "782944e6-eea1-4f1c-e61a-9355c80609cc"
      },
      "execution_count": null,
      "outputs": [
        {
          "output_type": "execute_result",
          "data": {
            "text/plain": [
              "-7.5"
            ]
          },
          "metadata": {},
          "execution_count": 50
        }
      ]
    },
    {
      "cell_type": "code",
      "source": [
        "print(\"El polinomio es:\\nS(x) = {\")\n",
        "for i in range(n):\n",
        "  c = 0\n",
        "  for j in abcd:\n",
        "    print(f\"{abcd[j][i]}x^{c}\", end=\" + \")\n",
        "    c += 1\n",
        "  print(f\" para {X[i]} < x < {X[i + 1]}\")"
      ],
      "metadata": {
        "colab": {
          "base_uri": "https://localhost:8080/"
        },
        "id": "dLWxreNOS2__",
        "outputId": "aee39b6c-1ff7-41e2-cdbf-06a8e6b41df0"
      },
      "execution_count": null,
      "outputs": [
        {
          "output_type": "stream",
          "name": "stdout",
          "text": [
            "El polinomio es:\n",
            "S(x) = {\n",
            "2.0x^0 + -5.291666666666667x^1 + 0x^2 + 1.5729166666666667x^3 +  para 1.0 < x < 3.0\n",
            "4.0x^0 + 1.0x^1 + 0x^2 + 0.0x^3 +  para 3.0 < x < 5.0\n",
            "6.0x^0 + 1.0x^1 + 9.4375x^2 + 0.0x^3 +  para 5.0 < x < 7.0\n",
            "8.0x^0 + 1.0x^1 + -2.375x^2 + 0.0x^3 +  para 7.0 < x < 9.0\n"
          ]
        }
      ]
    }
  ]
}
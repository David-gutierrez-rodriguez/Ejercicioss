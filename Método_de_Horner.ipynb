{
  "nbformat": 4,
  "nbformat_minor": 0,
  "metadata": {
    "colab": {
      "provenance": [],
      "authorship_tag": "ABX9TyMk3TOyEadP7yVx6o2PP8vt",
      "include_colab_link": true
    },
    "kernelspec": {
      "name": "python3",
      "display_name": "Python 3"
    },
    "language_info": {
      "name": "python"
    }
  },
  "cells": [
    {
      "cell_type": "markdown",
      "metadata": {
        "id": "view-in-github",
        "colab_type": "text"
      },
      "source": [
        "<a href=\"https://colab.research.google.com/github/David-gutierrez-rodriguez/Ejercicioss/blob/main/M%C3%A9todo_de_Horner.ipynb\" target=\"_parent\"><img src=\"https://colab.research.google.com/assets/colab-badge.svg\" alt=\"Open In Colab\"/></a>"
      ]
    },
    {
      "cell_type": "code",
      "execution_count": null,
      "metadata": {
        "id": "hEAU-jbP0vAQ"
      },
      "outputs": [],
      "source": [
        "def div(list_i, x):\n",
        "  list_r = [list_i[0]]\n",
        "  for i in range(len(list_i) - 1):\n",
        "    list_r.append(list_i[i + 1] + list_r[i] * x)\n",
        "  return list_r"
      ]
    },
    {
      "cell_type": "code",
      "source": [
        "polynomial = []\n",
        "n = int(input(\"De que grado es el plinomio? \"))\n",
        "for i in range(n + 1):\n",
        "  polynomial.append(float(input(f\"Ingresa el coeficiente de x^{n - i}: \")))\n",
        "p = float(input(\"Ingresa la primera aproximación: \"))\n",
        "error = float(input(\"Ingresa el error de la solución: \"))\n",
        "e, c = 1, 0\n",
        "print(f\"n \\t\\t P_n \\t\\t\\t Error\")\n",
        "while e > error:\n",
        "  print(f\"{c} \\t{p} \\t{e}\")\n",
        "  c += 1\n",
        "  t = p\n",
        "  f = div(polynomial,p)\n",
        "  p -= f[n] / div(f,p)[n - 1]\n",
        "  e = abs(t-p)\n",
        "print(f\"\\n La raíz con un error de {error} es aproximadamente {p}\")"
      ],
      "metadata": {
        "colab": {
          "base_uri": "https://localhost:8080/"
        },
        "id": "dyMOxefBBBuI",
        "outputId": "d00ba240-cdb3-4f51-fdbe-141e23ce3192"
      },
      "execution_count": null,
      "outputs": [
        {
          "output_type": "stream",
          "name": "stdout",
          "text": [
            "De que grado es el plinomio? 2\n",
            "Ingresa el coeficiente de x^2: 1\n",
            "Ingresa el coeficiente de x^1: 0\n",
            "Ingresa el coeficiente de x^0: -4\n",
            "Ingresa la primera aproximación: 1000\n",
            "Ingresa el error de la solución: 0.0000001\n",
            "n \t\t P_n \t\t\t Error\n",
            "0 \t1000.0 \t1\n",
            "1 \t500.002 \t499.998\n",
            "2 \t250.00499998400008 \t249.99700001599993\n",
            "3 \t125.01049983200375 \t124.99450015199633\n",
            "4 \t62.52124857213626 \t62.48925125986749\n",
            "5 \t31.29261341049664 \t31.22863516163962\n",
            "6 \t15.710219551828564 \t15.582393858668075\n",
            "7 \t7.982415444266143 \t7.727804107562421\n",
            "8 \t4.241758450037946 \t3.740656994228196\n",
            "9 \t2.5923817925407304 \t1.649376657497216\n",
            "10 \t2.0676821965698666 \t0.5246995959708638\n",
            "11 \t2.001107733030763 \t0.06657446353910368\n",
            "12 \t2.0000003065983023 \t0.0011074264324606453\n",
            "13 \t2.0000000000000235 \t3.065982787653354e-07\n",
            "\n",
            " La raíz con un error de 1e-07 es aproximadamente 2.0\n"
          ]
        }
      ]
    }
  ]
}
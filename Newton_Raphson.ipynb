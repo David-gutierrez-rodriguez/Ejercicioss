{
  "nbformat": 4,
  "nbformat_minor": 0,
  "metadata": {
    "colab": {
      "provenance": [],
      "authorship_tag": "ABX9TyPrzh3fKWvpTeicqSq1mZ67",
      "include_colab_link": true
    },
    "kernelspec": {
      "name": "python3",
      "display_name": "Python 3"
    },
    "language_info": {
      "name": "python"
    }
  },
  "cells": [
    {
      "cell_type": "markdown",
      "metadata": {
        "id": "view-in-github",
        "colab_type": "text"
      },
      "source": [
        "<a href=\"https://colab.research.google.com/github/David-gutierrez-rodriguez/Ejercicioss/blob/main/Newton_Raphson.ipynb\" target=\"_parent\"><img src=\"https://colab.research.google.com/assets/colab-badge.svg\" alt=\"Open In Colab\"/></a>"
      ]
    },
    {
      "cell_type": "markdown",
      "source": [
        "# Método de Newton-Raphson"
      ],
      "metadata": {
        "id": "ldsR49C9SlDF"
      }
    },
    {
      "cell_type": "code",
      "source": [
        "import numpy as np"
      ],
      "metadata": {
        "id": "aP07A5sMS5Ni"
      },
      "execution_count": null,
      "outputs": []
    },
    {
      "cell_type": "code",
      "execution_count": null,
      "metadata": {
        "id": "IDNco_EOQoey"
      },
      "outputs": [],
      "source": [
        "def f(x):\n",
        "  return np.cos(x) ** 2\n",
        "def g(x):\n",
        "  return -2 * np.sin(x) * np.cos(x)"
      ]
    },
    {
      "cell_type": "code",
      "source": [
        "p_n = float(input(\"Ingresa la primera aporximación: \"))\n",
        "error = float(input(\"Ingresa el error de la aproximación: \"))\n",
        "e, c = 1, 0\n",
        "print(f\"n \\t\\t P_n \\t\\t\\t Error\")\n",
        "while e > error:\n",
        "  print(f\"{c}\\t {p_n}\\t{e}\")\n",
        "  c += 1\n",
        "  t = p_n\n",
        "  if g(p_n) != 0:\n",
        "    p_n -= f(p_n) / g(p_n)\n",
        "  else:\n",
        "    print(\"Divisón por cero\")\n",
        "    break\n",
        "  e = abs(t-p_n)\n",
        "if g(p_n) != 0:\n",
        "  print(f\"{c} \\t {p_n} \\t{abs(t-p_n)}\")\n",
        "  print(f\"\\n La raíz con un error de {error} es aproximadamente {p_n}\")"
      ],
      "metadata": {
        "colab": {
          "base_uri": "https://localhost:8080/"
        },
        "id": "qFCrFgbDTCot",
        "outputId": "d0e8bbc5-e77b-4b20-fa88-893e6f34378e"
      },
      "execution_count": null,
      "outputs": [
        {
          "output_type": "stream",
          "name": "stdout",
          "text": [
            "Ingresa la primera aporximación: 1\n",
            "Ingresa el error de la aproximación: 0.0001\n",
            "n \t\t P_n \t\t\t Error\n",
            "0\t 1.0\t1\n",
            "1\t 1.3210463079671655\t0.3210463079671655\n",
            "2\t 1.4485841371633315\t0.12753782919616596\n",
            "3\t 1.5099962837595349\t0.06141214659620342\n",
            "4\t 1.540433820114687\t0.030437536355152117\n",
            "5\t 1.555619740282817\t0.015185920168129918\n",
            "6\t 1.563208616193309\t0.0075888759104920656\n",
            "7\t 1.567002544304102\t0.0037939281107930434\n",
            "8\t 1.5688994446500681\t0.0018969003459661238\n",
            "9\t 1.5698478868600323\t0.000948442209964151\n",
            "10\t 1.5703221069696576\t0.0004742201096252785\n",
            "11\t 1.5705592169000513\t0.00023710993039371964\n",
            "12\t 1.5706777718496958\t0.00011855494964452262\n",
            "13 \t 1.5707370493225739 \t5.927747287803875e-05\n",
            "\n",
            " La raíz con un error de 0.0001 es aproximadamente 1.5707370493225739\n"
          ]
        }
      ]
    }
  ]
}